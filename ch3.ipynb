{
  "nbformat": 4,
  "nbformat_minor": 0,
  "metadata": {
    "colab": {
      "provenance": [],
      "authorship_tag": "ABX9TyPNcC5StmtA3v5ugnZf++Wl",
      "include_colab_link": true
    },
    "kernelspec": {
      "name": "python3",
      "display_name": "Python 3"
    },
    "language_info": {
      "name": "python"
    }
  },
  "cells": [
    {
      "cell_type": "markdown",
      "metadata": {
        "id": "view-in-github",
        "colab_type": "text"
      },
      "source": [
        "<a href=\"https://colab.research.google.com/github/2200242/22_05_basic_python/blob/main/ch3.ipynb\" target=\"_parent\"><img src=\"https://colab.research.google.com/assets/colab-badge.svg\" alt=\"Open In Colab\"/></a>"
      ]
    },
    {
      "cell_type": "code",
      "execution_count": 2,
      "metadata": {
        "colab": {
          "base_uri": "https://localhost:8080/"
        },
        "id": "7ovXRuA5KvJv",
        "outputId": "4c16c902-6299-4445-da31-6b6d09a541fd"
      },
      "outputs": [
        {
          "output_type": "stream",
          "name": "stdout",
          "text": [
            "x= 10\n",
            "x= 3.14\n",
            "x= hello world!\n"
          ]
        }
      ],
      "source": [
        "x=10\n",
        "print(\"x=\",x)\n",
        "x=3.14\n",
        "print(\"x=\",x)\n",
        "x=\"hello world!\"\n",
        "print(\"x=\",x)"
      ]
    },
    {
      "cell_type": "code",
      "source": [
        "x=input(\"정수를 입력하시오:\")\n",
        "y=input(\"정수를 입력하시오:\")\n",
        "print(x+y)"
      ],
      "metadata": {
        "colab": {
          "base_uri": "https://localhost:8080/"
        },
        "id": "DWg72QVEOeDF",
        "outputId": "9e01b273-b201-4e9a-cd7f-0222d899c6b9"
      },
      "execution_count": 3,
      "outputs": [
        {
          "output_type": "stream",
          "name": "stdout",
          "text": [
            "정수를 입력하시오:100\n",
            "정수를 입력하시오:200\n",
            "100200\n"
          ]
        }
      ]
    },
    {
      "cell_type": "code",
      "source": [
        "x=int(input(\"정수를 입력하시오:\"))\n",
        "y=int(input(\"정수를 입력하시오:\"))\n",
        "print(x+y)"
      ],
      "metadata": {
        "colab": {
          "base_uri": "https://localhost:8080/"
        },
        "id": "0Q_2Ga2OTWEW",
        "outputId": "98b0e008-efd4-4107-db7d-9a20bfb1d6a1"
      },
      "execution_count": 4,
      "outputs": [
        {
          "output_type": "stream",
          "name": "stdout",
          "text": [
            "정수를 입력하시오:100\n",
            "정수를 입력하시오:200\n",
            "300\n"
          ]
        }
      ]
    },
    {
      "cell_type": "code",
      "source": [
        "t=input(\"정수를 입력하시오:\")\n",
        "x=int(t)\n",
        "\n",
        "t=input(\"정수를 입력하시오:\")\n",
        "y=int(t)\n",
        "\n",
        "print(x+y)"
      ],
      "metadata": {
        "colab": {
          "base_uri": "https://localhost:8080/"
        },
        "id": "6MYRDDp-U7VA",
        "outputId": "dc8122dd-6013-412c-c98b-7872bd73367c"
      },
      "execution_count": 5,
      "outputs": [
        {
          "output_type": "stream",
          "name": "stdout",
          "text": [
            "정수를 입력하시오:100\n",
            "정수를 입력하시오:200\n",
            "300\n"
          ]
        }
      ]
    },
    {
      "cell_type": "code",
      "source": [],
      "metadata": {
        "id": "ogw4YZBRW889"
      },
      "execution_count": null,
      "outputs": []
    }
  ]
}